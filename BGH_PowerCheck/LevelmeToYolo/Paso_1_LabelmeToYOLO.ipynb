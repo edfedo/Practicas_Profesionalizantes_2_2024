{
 "cells": [
  {
   "cell_type": "markdown",
   "metadata": {
    "id": "WFZsbPI3UBRE"
   },
   "source": [
    "# CONVERSION FORMATO LABELME A YOLO\n",
    "\n",
    "En esta instancia convertiremos los archivos en formato JSON que fueron realizados en el entorno LABELME, al formato YOLO para lograr su posterior procesamiento.\n",
    "\n"
   ]
  },
  {
   "cell_type": "code",
   "execution_count": null,
   "metadata": {
    "colab": {
     "base_uri": "https://localhost:8080/"
    },
    "executionInfo": {
     "elapsed": 17451,
     "status": "ok",
     "timestamp": 1732579005252,
     "user": {
      "displayName": "Federico D'Oliveira",
      "userId": "15566674850354112284"
     },
     "user_tz": 180
    },
    "id": "wSoCUXq9PHwC",
    "outputId": "e5036156-9198-4c5b-aff4-de25a4e456a0"
   },
   "outputs": [
    {
     "name": "stdout",
     "output_type": "stream",
     "text": [
      "Collecting labelme\n",
      "  Downloading labelme-5.5.0.tar.gz (1.4 MB)\n",
      "\u001b[?25l     \u001b[90m━━━━━━━━━━━━━━━━━━━━━━━━━━━━━━━━━━━━━━━━\u001b[0m \u001b[32m0.0/1.4 MB\u001b[0m \u001b[31m?\u001b[0m eta \u001b[36m-:--:--\u001b[0m\r\u001b[2K     \u001b[91m━━━━━━━━━━━━━━━━━━━━━━━━━━━━━━━━━━━━━━━\u001b[0m\u001b[91m╸\u001b[0m \u001b[32m1.4/1.4 MB\u001b[0m \u001b[31m75.0 MB/s\u001b[0m eta \u001b[36m0:00:01\u001b[0m\r\u001b[2K     \u001b[90m━━━━━━━━━━━━━━━━━━━━━━━━━━━━━━━━━━━━━━━━\u001b[0m \u001b[32m1.4/1.4 MB\u001b[0m \u001b[31m36.0 MB/s\u001b[0m eta \u001b[36m0:00:00\u001b[0m\n",
      "\u001b[?25h  Preparing metadata (setup.py) ... \u001b[?25l\u001b[?25hdone\n",
      "Requirement already satisfied: gdown in /usr/local/lib/python3.10/dist-packages (from labelme) (5.2.0)\n",
      "Collecting imgviz>=1.7.5 (from labelme)\n",
      "  Downloading imgviz-1.7.6-py3-none-any.whl.metadata (6.2 kB)\n",
      "Requirement already satisfied: matplotlib in /usr/local/lib/python3.10/dist-packages (from labelme) (3.8.0)\n",
      "Requirement already satisfied: natsort>=7.1.0 in /usr/local/lib/python3.10/dist-packages (from labelme) (8.4.0)\n",
      "Requirement already satisfied: numpy in /usr/local/lib/python3.10/dist-packages (from labelme) (1.26.4)\n",
      "Collecting onnxruntime!=1.16.0,>=1.14.1 (from labelme)\n",
      "  Downloading onnxruntime-1.20.1-cp310-cp310-manylinux_2_27_x86_64.manylinux_2_28_x86_64.whl.metadata (4.5 kB)\n",
      "Requirement already satisfied: Pillow>=2.8 in /usr/local/lib/python3.10/dist-packages (from labelme) (11.0.0)\n",
      "Requirement already satisfied: PyYAML in /usr/local/lib/python3.10/dist-packages (from labelme) (6.0.2)\n",
      "Collecting qtpy!=1.11.2 (from labelme)\n",
      "  Downloading QtPy-2.4.2-py3-none-any.whl.metadata (12 kB)\n",
      "Requirement already satisfied: scikit-image in /usr/local/lib/python3.10/dist-packages (from labelme) (0.24.0)\n",
      "Requirement already satisfied: termcolor in /usr/local/lib/python3.10/dist-packages (from labelme) (2.5.0)\n",
      "Collecting PyQt5!=5.15.3,!=5.15.4 (from labelme)\n",
      "  Downloading PyQt5-5.15.11-cp38-abi3-manylinux_2_17_x86_64.whl.metadata (2.1 kB)\n",
      "Collecting coloredlogs (from onnxruntime!=1.16.0,>=1.14.1->labelme)\n",
      "  Downloading coloredlogs-15.0.1-py2.py3-none-any.whl.metadata (12 kB)\n",
      "Requirement already satisfied: flatbuffers in /usr/local/lib/python3.10/dist-packages (from onnxruntime!=1.16.0,>=1.14.1->labelme) (24.3.25)\n",
      "Requirement already satisfied: packaging in /usr/local/lib/python3.10/dist-packages (from onnxruntime!=1.16.0,>=1.14.1->labelme) (24.2)\n",
      "Requirement already satisfied: protobuf in /usr/local/lib/python3.10/dist-packages (from onnxruntime!=1.16.0,>=1.14.1->labelme) (4.25.5)\n",
      "Requirement already satisfied: sympy in /usr/local/lib/python3.10/dist-packages (from onnxruntime!=1.16.0,>=1.14.1->labelme) (1.13.1)\n",
      "Collecting PyQt5-sip<13,>=12.15 (from PyQt5!=5.15.3,!=5.15.4->labelme)\n",
      "  Downloading PyQt5_sip-12.15.0-cp310-cp310-manylinux_2_5_x86_64.manylinux1_x86_64.whl.metadata (421 bytes)\n",
      "Collecting PyQt5-Qt5<5.16.0,>=5.15.2 (from PyQt5!=5.15.3,!=5.15.4->labelme)\n",
      "  Downloading PyQt5_Qt5-5.15.15-py3-none-manylinux2014_x86_64.whl.metadata (536 bytes)\n",
      "Requirement already satisfied: beautifulsoup4 in /usr/local/lib/python3.10/dist-packages (from gdown->labelme) (4.12.3)\n",
      "Requirement already satisfied: filelock in /usr/local/lib/python3.10/dist-packages (from gdown->labelme) (3.16.1)\n",
      "Requirement already satisfied: requests[socks] in /usr/local/lib/python3.10/dist-packages (from gdown->labelme) (2.32.3)\n",
      "Requirement already satisfied: tqdm in /usr/local/lib/python3.10/dist-packages (from gdown->labelme) (4.66.6)\n",
      "Requirement already satisfied: contourpy>=1.0.1 in /usr/local/lib/python3.10/dist-packages (from matplotlib->labelme) (1.3.1)\n",
      "Requirement already satisfied: cycler>=0.10 in /usr/local/lib/python3.10/dist-packages (from matplotlib->labelme) (0.12.1)\n",
      "Requirement already satisfied: fonttools>=4.22.0 in /usr/local/lib/python3.10/dist-packages (from matplotlib->labelme) (4.55.0)\n",
      "Requirement already satisfied: kiwisolver>=1.0.1 in /usr/local/lib/python3.10/dist-packages (from matplotlib->labelme) (1.4.7)\n",
      "Requirement already satisfied: pyparsing>=2.3.1 in /usr/local/lib/python3.10/dist-packages (from matplotlib->labelme) (3.2.0)\n",
      "Requirement already satisfied: python-dateutil>=2.7 in /usr/local/lib/python3.10/dist-packages (from matplotlib->labelme) (2.8.2)\n",
      "Requirement already satisfied: scipy>=1.9 in /usr/local/lib/python3.10/dist-packages (from scikit-image->labelme) (1.13.1)\n",
      "Requirement already satisfied: networkx>=2.8 in /usr/local/lib/python3.10/dist-packages (from scikit-image->labelme) (3.4.2)\n",
      "Requirement already satisfied: imageio>=2.33 in /usr/local/lib/python3.10/dist-packages (from scikit-image->labelme) (2.36.0)\n",
      "Requirement already satisfied: tifffile>=2022.8.12 in /usr/local/lib/python3.10/dist-packages (from scikit-image->labelme) (2024.9.20)\n",
      "Requirement already satisfied: lazy-loader>=0.4 in /usr/local/lib/python3.10/dist-packages (from scikit-image->labelme) (0.4)\n",
      "Requirement already satisfied: six>=1.5 in /usr/local/lib/python3.10/dist-packages (from python-dateutil>=2.7->matplotlib->labelme) (1.16.0)\n",
      "Requirement already satisfied: soupsieve>1.2 in /usr/local/lib/python3.10/dist-packages (from beautifulsoup4->gdown->labelme) (2.6)\n",
      "Collecting humanfriendly>=9.1 (from coloredlogs->onnxruntime!=1.16.0,>=1.14.1->labelme)\n",
      "  Downloading humanfriendly-10.0-py2.py3-none-any.whl.metadata (9.2 kB)\n",
      "Requirement already satisfied: charset-normalizer<4,>=2 in /usr/local/lib/python3.10/dist-packages (from requests[socks]->gdown->labelme) (3.4.0)\n",
      "Requirement already satisfied: idna<4,>=2.5 in /usr/local/lib/python3.10/dist-packages (from requests[socks]->gdown->labelme) (3.10)\n",
      "Requirement already satisfied: urllib3<3,>=1.21.1 in /usr/local/lib/python3.10/dist-packages (from requests[socks]->gdown->labelme) (2.2.3)\n",
      "Requirement already satisfied: certifi>=2017.4.17 in /usr/local/lib/python3.10/dist-packages (from requests[socks]->gdown->labelme) (2024.8.30)\n",
      "Requirement already satisfied: PySocks!=1.5.7,>=1.5.6 in /usr/local/lib/python3.10/dist-packages (from requests[socks]->gdown->labelme) (1.7.1)\n",
      "Requirement already satisfied: mpmath<1.4,>=1.1.0 in /usr/local/lib/python3.10/dist-packages (from sympy->onnxruntime!=1.16.0,>=1.14.1->labelme) (1.3.0)\n",
      "Downloading imgviz-1.7.6-py3-none-any.whl (7.7 MB)\n",
      "\u001b[2K   \u001b[90m━━━━━━━━━━━━━━━━━━━━━━━━━━━━━━━━━━━━━━━━\u001b[0m \u001b[32m7.7/7.7 MB\u001b[0m \u001b[31m58.0 MB/s\u001b[0m eta \u001b[36m0:00:00\u001b[0m\n",
      "\u001b[?25hDownloading onnxruntime-1.20.1-cp310-cp310-manylinux_2_27_x86_64.manylinux_2_28_x86_64.whl (13.3 MB)\n",
      "\u001b[2K   \u001b[90m━━━━━━━━━━━━━━━━━━━━━━━━━━━━━━━━━━━━━━━━\u001b[0m \u001b[32m13.3/13.3 MB\u001b[0m \u001b[31m40.6 MB/s\u001b[0m eta \u001b[36m0:00:00\u001b[0m\n",
      "\u001b[?25hDownloading PyQt5-5.15.11-cp38-abi3-manylinux_2_17_x86_64.whl (8.2 MB)\n",
      "\u001b[2K   \u001b[90m━━━━━━━━━━━━━━━━━━━━━━━━━━━━━━━━━━━━━━━━\u001b[0m \u001b[32m8.2/8.2 MB\u001b[0m \u001b[31m45.6 MB/s\u001b[0m eta \u001b[36m0:00:00\u001b[0m\n",
      "\u001b[?25hDownloading QtPy-2.4.2-py3-none-any.whl (95 kB)\n",
      "\u001b[2K   \u001b[90m━━━━━━━━━━━━━━━━━━━━━━━━━━━━━━━━━━━━━━━━\u001b[0m \u001b[32m95.2/95.2 kB\u001b[0m \u001b[31m7.8 MB/s\u001b[0m eta \u001b[36m0:00:00\u001b[0m\n",
      "\u001b[?25hDownloading PyQt5_Qt5-5.15.15-py3-none-manylinux2014_x86_64.whl (59.8 MB)\n",
      "\u001b[2K   \u001b[90m━━━━━━━━━━━━━━━━━━━━━━━━━━━━━━━━━━━━━━━━\u001b[0m \u001b[32m59.8/59.8 MB\u001b[0m \u001b[31m9.0 MB/s\u001b[0m eta \u001b[36m0:00:00\u001b[0m\n",
      "\u001b[?25hDownloading PyQt5_sip-12.15.0-cp310-cp310-manylinux_2_5_x86_64.manylinux1_x86_64.whl (270 kB)\n",
      "\u001b[2K   \u001b[90m━━━━━━━━━━━━━━━━━━━━━━━━━━━━━━━━━━━━━━━━\u001b[0m \u001b[32m270.5/270.5 kB\u001b[0m \u001b[31m18.6 MB/s\u001b[0m eta \u001b[36m0:00:00\u001b[0m\n",
      "\u001b[?25hDownloading coloredlogs-15.0.1-py2.py3-none-any.whl (46 kB)\n",
      "\u001b[2K   \u001b[90m━━━━━━━━━━━━━━━━━━━━━━━━━━━━━━━━━━━━━━━━\u001b[0m \u001b[32m46.0/46.0 kB\u001b[0m \u001b[31m3.4 MB/s\u001b[0m eta \u001b[36m0:00:00\u001b[0m\n",
      "\u001b[?25hDownloading humanfriendly-10.0-py2.py3-none-any.whl (86 kB)\n",
      "\u001b[2K   \u001b[90m━━━━━━━━━━━━━━━━━━━━━━━━━━━━━━━━━━━━━━━━\u001b[0m \u001b[32m86.8/86.8 kB\u001b[0m \u001b[31m7.3 MB/s\u001b[0m eta \u001b[36m0:00:00\u001b[0m\n",
      "\u001b[?25hBuilding wheels for collected packages: labelme\n",
      "  Building wheel for labelme (setup.py) ... \u001b[?25l\u001b[?25hdone\n",
      "  Created wheel for labelme: filename=labelme-5.5.0-py3-none-any.whl size=1437463 sha256=8d671ae9ceee10c5895d6a99a69758ed275fe0c8be3f4d7651443a3de3cf6986\n",
      "  Stored in directory: /root/.cache/pip/wheels/44/3a/5e/487d2768ccb5f2411334ac0f3fa7265c94decca9fd94f64d6b\n",
      "Successfully built labelme\n",
      "Installing collected packages: PyQt5-Qt5, qtpy, PyQt5-sip, humanfriendly, PyQt5, coloredlogs, onnxruntime, imgviz, labelme\n",
      "Successfully installed PyQt5-5.15.11 PyQt5-Qt5-5.15.15 PyQt5-sip-12.15.0 coloredlogs-15.0.1 humanfriendly-10.0 imgviz-1.7.6 labelme-5.5.0 onnxruntime-1.20.1 qtpy-2.4.2\n"
     ]
    }
   ],
   "source": [
    "#instalamos la biblioteca labelme, que es una herramienta de anotación de imágenes y generación de archivos JSON utilizada en el proceso.\n",
    "!pip install labelme"
   ]
  },
  {
   "cell_type": "code",
   "execution_count": null,
   "metadata": {
    "colab": {
     "base_uri": "https://localhost:8080/"
    },
    "executionInfo": {
     "elapsed": 20097,
     "status": "ok",
     "timestamp": 1732579032985,
     "user": {
      "displayName": "Federico D'Oliveira",
      "userId": "15566674850354112284"
     },
     "user_tz": 180
    },
    "id": "dlYmVVaHX7uw",
    "outputId": "d4f2dc8d-2828-4f02-c8a3-de0efa6e5963"
   },
   "outputs": [
    {
     "name": "stdout",
     "output_type": "stream",
     "text": [
      "Mounted at /content/drive\n"
     ]
    }
   ],
   "source": [
    "#from google.colab import drive\n",
    "#drive.mount('/content/drive')"
   ]
  },
  {
   "cell_type": "code",
   "execution_count": null,
   "metadata": {
    "id": "7boVPhaVPPOF"
   },
   "outputs": [],
   "source": [
    "import os"
   ]
  },
  {
   "cell_type": "code",
   "execution_count": null,
   "metadata": {
    "colab": {
     "base_uri": "https://localhost:8080/"
    },
    "executionInfo": {
     "elapsed": 2318,
     "status": "ok",
     "timestamp": 1732579040341,
     "user": {
      "displayName": "Federico D'Oliveira",
      "userId": "15566674850354112284"
     },
     "user_tz": 180
    },
    "id": "gTSkuud9PQnz",
    "outputId": "da9cacb8-4529-4b19-b4a6-7e4ccbbbee35"
   },
   "outputs": [
    {
     "name": "stdout",
     "output_type": "stream",
     "text": [
      "Drive already mounted at /content/drive; to attempt to forcibly remount, call drive.mount(\"/content/drive\", force_remount=True).\n"
     ]
    }
   ],
   "source": [
    "#realizamos el montaje de Google Drive en el entorno de trabajo de Colab, esto nos permite acceder a los archivos y poder manipularlos.\n",
    "#from google.colab import drive\n",
    "#drive.mount('/content/drive')"
   ]
  },
  {
   "cell_type": "code",
   "execution_count": null,
   "metadata": {
    "colab": {
     "base_uri": "https://localhost:8080/"
    },
    "executionInfo": {
     "elapsed": 589,
     "status": "ok",
     "timestamp": 1732579044417,
     "user": {
      "displayName": "Federico D'Oliveira",
      "userId": "15566674850354112284"
     },
     "user_tz": 180
    },
    "id": "COeTdvI-PZhv",
    "outputId": "b7cb846d-1241-4550-ed6f-f7bec566de97"
   },
   "outputs": [
    {
     "name": "stdout",
     "output_type": "stream",
     "text": [
      "Cloning into 'Labelme2YOLO'...\n",
      "remote: Enumerating objects: 107, done.\u001b[K\n",
      "remote: Counting objects: 100% (23/23), done.\u001b[K\n",
      "remote: Compressing objects: 100% (8/8), done.\u001b[K\n",
      "remote: Total 107 (delta 19), reused 15 (delta 15), pack-reused 84 (from 1)\u001b[K\n",
      "Receiving objects: 100% (107/107), 35.92 KiB | 11.97 MiB/s, done.\n",
      "Resolving deltas: 100% (40/40), done.\n"
     ]
    }
   ],
   "source": [
    " #Clonamos el repositorio Labelme2YOLO desde GitHub, para poder convertir las etiquetas de formato labelme a YOLO.\n",
    "!git clone https://github.com/TemitopeOladokun/Labelme2YOLO"
   ]
  },
  {
   "cell_type": "code",
   "execution_count": null,
   "metadata": {
    "colab": {
     "base_uri": "https://localhost:8080/"
    },
    "executionInfo": {
     "elapsed": 103245,
     "status": "ok",
     "timestamp": 1732579275849,
     "user": {
      "displayName": "Federico D'Oliveira",
      "userId": "15566674850354112284"
     },
     "user_tz": 180
    },
    "id": "-_7zHzhJPnWr",
    "outputId": "107216b9-e960-4ae6-d6aa-9cc80fb992d2"
   },
   "outputs": [
    {
     "name": "stdout",
     "output_type": "stream",
     "text": [
      "Converting WIN_20241107_15_03_22_Pro.json for train ...\n",
      "Converting WIN_20241107_13_11_41_Pro.json for train ...\n",
      "Converting WIN_20241107_15_07_30_Pro.json for train ...\n",
      "Converting WIN_20241107_13_12_20_Pro.json for train ...\n",
      "Converting WIN_20241108_11_12_05_Pro.json for train ...\n",
      "Converting WIN_20241107_12_06_17_Pro.json for train ...\n",
      "Converting WIN_20241107_13_11_31_Pro.json for train ...\n",
      "Converting WIN_20241107_15_26_11_Pro.json for train ...\n",
      "Converting WIN_20241107_15_26_02_Pro.json for train ...\n",
      "Converting WIN_20241108_09_21_12_Pro.json for train ...\n",
      "Converting WIN_20241107_15_07_26_Pro.json for train ...\n",
      "Converting WIN_20241108_11_19_24_Pro.json for train ...\n",
      "Converting WIN_20241107_13_11_49_Pro.json for train ...\n",
      "Converting WIN_20241107_13_13_33_Pro.json for train ...\n",
      "Converting WIN_20241107_13_14_54_Pro.json for train ...\n",
      "Converting WIN_20241107_15_03_51_Pro.json for train ...\n",
      "Converting WIN_20241107_13_12_57_Pro.json for train ...\n",
      "Converting WIN_20241107_15_03_19_Pro.json for train ...\n",
      "Converting WIN_20241107_13_07_35_Pro.json for train ...\n",
      "Converting WIN_20241107_13_11_26_Pro.json for train ...\n",
      "Converting WIN_20241107_15_07_43_Pro.json for train ...\n",
      "Converting WIN_20241107_13_11_36_Pro.json for train ...\n",
      "Converting WIN_20241108_10_20_17_Pro.json for train ...\n",
      "Converting WIN_20241107_13_15_06_Pro.json for train ...\n",
      "Converting WIN_20241108_11_15_06_Pro.json for train ...\n",
      "Converting WIN_20241107_15_26_50_Pro.json for train ...\n",
      "Converting WIN_20241107_15_07_39_Pro.json for train ...\n",
      "Converting WIN_20241107_15_04_12_Pro.json for train ...\n",
      "Converting WIN_20241107_13_29_00_Pro.json for train ...\n",
      "Converting WIN_20241107_13_07_55_Pro.json for train ...\n",
      "Converting WIN_20241107_15_03_47_Pro.json for train ...\n",
      "Converting WIN_20241107_13_28_44_Pro.json for train ...\n",
      "Converting WIN_20241107_15_26_16_Pro.json for train ...\n",
      "Converting WIN_20241107_13_28_15_Pro.json for train ...\n",
      "Converting WIN_20241107_13_11_55_Pro.json for train ...\n",
      "Converting WIN_20241107_15_07_47_Pro.json for train ...\n",
      "Converting WIN_20241107_13_11_45_Pro.json for train ...\n",
      "Converting WIN_20241108_11_17_29_Pro.json for train ...\n",
      "Converting WIN_20241107_13_14_59_Pro.json for train ...\n",
      "Converting WIN_20241108_13_07_06_Pro.json for train ...\n",
      "Converting WIN_20241107_13_09_00_Pro.json for train ...\n",
      "Converting WIN_20241108_10_20_39_Pro.json for train ...\n",
      "Converting WIN_20241107_15_03_40_Pro.json for train ...\n",
      "Converting WIN_20241107_15_10_33_Pro.json for train ...\n",
      "Converting WIN_20241108_10_19_58_Pro.json for train ...\n",
      "Converting WIN_20241107_13_12_06_Pro.json for train ...\n",
      "Converting WIN_20241107_13_28_21_Pro.json for train ...\n",
      "Converting WIN_20241107_15_03_26_Pro.json for train ...\n",
      "Converting WIN_20241107_13_13_09_Pro.json for train ...\n",
      "Converting WIN_20241107_15_02_52_Pro.json for train ...\n",
      "Converting WIN_20241107_13_29_06_Pro.json for train ...\n",
      "Converting WIN_20241108_11_11_53_Pro.json for train ...\n",
      "Converting WIN_20241108_12_45_20_Pro.json for train ...\n",
      "Converting WIN_20241107_13_11_08_Pro.json for train ...\n",
      "Converting WIN_20241107_13_12_00_Pro.json for train ...\n",
      "Converting WIN_20241107_15_27_06_Pro.json for train ...\n",
      "Converting WIN_20241107_15_26_40_Pro.json for train ...\n",
      "Converting WIN_20241108_10_25_22_Pro.json for train ...\n",
      "Converting WIN_20241107_15_26_35_Pro.json for train ...\n",
      "Converting WIN_20241107_12_06_12_Pro.json for train ...\n",
      "Converting WIN_20241107_15_03_14_Pro.json for train ...\n",
      "Converting WIN_20241107_13_07_48_Pro.json for train ...\n",
      "Converting WIN_20241107_15_10_28_Pro.json for train ...\n",
      "Converting WIN_20241108_12_45_10_Pro.json for train ...\n",
      "Converting WIN_20241107_13_08_04_Pro.json for train ...\n",
      "Converting WIN_20241107_15_26_21_Pro.json for train ...\n",
      "Converting WIN_20241107_15_03_43_Pro.json for train ...\n",
      "Converting WIN_20241108_10_10_41_Pro.json for train ...\n",
      "Converting WIN_20241108_11_14_54_Pro.json for train ...\n",
      "Converting WIN_20241107_15_06_16_Pro.json for train ...\n",
      "Converting WIN_20241107_13_15_09_Pro.json for train ...\n",
      "Converting WIN_20241108_12_44_26_Pro.json for train ...\n",
      "Converting WIN_20241107_15_10_37_Pro.json for train ...\n",
      "Converting WIN_20241107_15_03_56_Pro.json for train ...\n",
      "Converting WIN_20241108_11_12_17_Pro.json for train ...\n",
      "Converting WIN_20241107_15_26_44_Pro.json for train ...\n",
      "Converting WIN_20241107_13_28_53_Pro.json for train ...\n",
      "Converting WIN_20241107_13_14_39_Pro.json for train ...\n",
      "Converting WIN_20241108_11_15_10_Pro.json for train ...\n",
      "Converting WIN_20241107_15_06_22_Pro.json for train ...\n",
      "Converting WIN_20241107_13_03_03_Pro.json for train ...\n",
      "Converting WIN_20241107_15_26_07_Pro.json for train ...\n",
      "Converting WIN_20241107_13_28_49_Pro.json for train ...\n",
      "Converting WIN_20241107_15_27_02_Pro.json for train ...\n",
      "Converting WIN_20241107_15_26_58_Pro.json for train ...\n",
      "Converting WIN_20241107_15_26_27_Pro.json for train ...\n",
      "Converting WIN_20241108_10_15_53_Pro.json for train ...\n",
      "Converting WIN_20241107_13_29_11_Pro.json for train ...\n",
      "Converting WIN_20241107_13_03_13_Pro.json for train ...\n",
      "Converting WIN_20241107_13_10_51_Pro.json for train ...\n",
      "Converting WIN_20241107_13_11_19_Pro.json for train ...\n",
      "Converting WIN_20241107_13_11_13_Pro.json for train ...\n",
      "Converting WIN_20241107_13_15_14_Pro.json for train ...\n",
      "Converting WIN_20241108_11_19_46_Pro.json for train ...\n",
      "Converting WIN_20241107_13_10_56_Pro.json for train ...\n",
      "Converting WIN_20241107_13_14_47_Pro.json for train ...\n",
      "Converting WIN_20241107_13_15_19_Pro.json for train ...\n",
      "Converting WIN_20241108_10_16_44_Pro.json for train ...\n",
      "Converting WIN_20241107_13_28_31_Pro.json for train ...\n",
      "Converting WIN_20241107_13_09_07_Pro.json for val ...\n",
      "Converting WIN_20241107_15_04_01_Pro.json for val ...\n",
      "Converting WIN_20241107_13_13_23_Pro.json for val ...\n",
      "Converting WIN_20241107_13_11_02_Pro.json for val ...\n",
      "Converting WIN_20241107_15_08_00_Pro.json for val ...\n",
      "Converting WIN_20241107_13_12_52_Pro.json for val ...\n",
      "Converting WIN_20241107_15_03_32_Pro.json for val ...\n",
      "Converting WIN_20241107_13_12_12_Pro.json for val ...\n",
      "Converting WIN_20241107_15_02_56_Pro.json for val ...\n",
      "Converting WIN_20241108_10_19_46_Pro.json for val ...\n",
      "Converting WIN_20241108_10_10_38_Pro.json for val ...\n",
      "Generating dataset.yaml file ...\n"
     ]
    }
   ],
   "source": [
    "os.chdir(\"C:/Practicas_Profesionalizantes_2_2024/BGH_PowerCheck/LevelmeToYolo/Labelme2YOL\") #Cambiamos el directorio de trabajo actual al directorio del repositorio clonado Labelme2YOLO, donde se encuentran los scripts necesarios para la conversión.\n",
    "!python labelme2yolo.py --json_dir \"C:/Practicas_Profesionalizantes_2_2024/BGH_PowerCheck/LevelmeToYolo/fotos etiquetadas\" #ejecuta el script labelme2yolo.py lee los archivos JSON y los convierte a YOLO conteniendo coordenadas y etiquetas.\n"
   ]
  }
 ],
 "metadata": {
  "colab": {
   "provenance": []
  },
  "kernelspec": {
   "display_name": "Python 3",
   "name": "python3"
  },
  "language_info": {
   "name": "python"
  }
 },
 "nbformat": 4,
 "nbformat_minor": 0
}
